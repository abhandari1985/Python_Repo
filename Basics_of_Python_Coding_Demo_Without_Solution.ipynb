{
  "cells": [
    {
      "attachments": {},
      "cell_type": "markdown",
      "metadata": {
        "id": "ZstrsgRYu7u_"
      },
      "source": [
        "# Session 1: Basics of Python"
      ]
    },
    {
      "attachments": {},
      "cell_type": "markdown",
      "metadata": {
        "id": "82Pyd7UySXrK"
      },
      "source": [
        "# Problem Statement\n",
        "\n",
        "A software company is developing a new user management system that contains information about their:\n",
        "- `name` - The name of the user\n",
        "- `date of birth` - The date of birth of the user\n",
        "- `age` - The age of the user\n",
        "- `subscription status` - The subscription status is represented by a boolean value, where \"True\" indicates an active subscription and \"False\" indicates an inactive subscription.\n",
        "\n",
        "As a business analyst, your task is to use these details and extract useful information from them, using basic Python operations.\n",
        "\n",
        "---\n",
        "\n"
      ]
    },
    {
      "attachments": {},
      "cell_type": "markdown",
      "metadata": {
        "id": "3UsLTZqd1bBS"
      },
      "source": [
        "The company wants to generate user IDs from the user's name, age, year of birth, and subscription status by using string formatting to generate the user IDs."
      ]
    },
    {
      "cell_type": "code",
      "execution_count": 15,
      "metadata": {
        "id": "7RL0W3mm5i14"
      },
      "outputs": [
        {
          "name": "stdout",
          "output_type": "stream",
          "text": [
            "AK196558\n",
            "Alice Kim\n"
          ]
        }
      ],
      "source": [
        "# User details on name, year of birth and age\n",
        "# Extract user id using string formatting - user's name + yob + age without any whitespaces\n",
        "# Remove space and add an underscore in the name and use that as the id\n",
        "# Extract fixed length user_ids using only the first letter of the first name and the last name.\n",
        "name = 'Alice Kim'\n",
        "yob\t= 1965\t\n",
        "age\t= 58\n",
        "\n",
        "user_id =name.split()[0]+name.split()[1]\n",
        "user_id1 =name.replace(\" \",\"_\")\n",
        "len(name)\n",
        "user_id2=name.split()[0][0]+name.split()[1][0]\n",
        "print(\"{0}{1}{2}\".format(user_id2,yob,age))\n",
        "\n",
        "full_name = \"   Alice Kim  \"\n",
        "# Trim whitespace and lowercase text\n",
        "full_name = name.strip()\n",
        "print(full_name)\n",
        "# Split full name into first and last name\n",
        "# first_name, last_name = \n",
        "# print(\"First Name:\", first_name)\n",
        "# print(\"Last Name:\", last_name)"
      ]
    },
    {
      "attachments": {},
      "cell_type": "markdown",
      "metadata": {
        "id": "9a4SJLMO4n4V"
      },
      "source": [
        "The company needs to validate the length of user names to ensure none of the users' names are neither too long nor too short."
      ]
    },
    {
      "attachments": {},
      "cell_type": "markdown",
      "metadata": {
        "id": "ff3yxIpX4OLE"
      },
      "source": [
        "The company needs to split user-provided full names into separate first and last name fields. The full name strings may contain leading or trailing whitespace, as well as mixed case text. The company wants to ensure that the first and last names are accurately extracted from the full name strings, while also handling any formatting inconsistencies."
      ]
    },
    {
      "cell_type": "code",
      "execution_count": null,
      "metadata": {
        "id": "m6TOmiUF44oX"
      },
      "outputs": [],
      "source": [
        "full_name = \"   Alice Kim  \"\n",
        "\n",
        "# Trim whitespace and lowercase text\n",
        "full_name = \n",
        "\n",
        "# Split full name into first and last name\n",
        "first_name, last_name = \n",
        "\n",
        "print(\"First Name:\", first_name)\n",
        "print(\"Last Name:\", last_name)"
      ]
    },
    {
      "attachments": {},
      "cell_type": "markdown",
      "metadata": {
        "id": "-CILyMsvZwA3"
      },
      "source": [
        "Write a Python program to extract the month value from the \"DOB\"."
      ]
    },
    {
      "cell_type": "code",
      "execution_count": null,
      "metadata": {
        "id": "iYj5r-WRqfv4"
      },
      "outputs": [],
      "source": [
        "# Slice string date to obtain month value\n",
        "date_string = \"23-05-1965\"\n",
        "\n",
        "# Use string slicing to extract the month value\n",
        "month = \n",
        "\n",
        "print(\"Month:\", month)"
      ]
    }
  ],
  "metadata": {
    "colab": {
      "provenance": []
    },
    "kernelspec": {
      "display_name": "Python 3",
      "name": "python3"
    },
    "language_info": {
      "codemirror_mode": {
        "name": "ipython",
        "version": 3
      },
      "file_extension": ".py",
      "mimetype": "text/x-python",
      "name": "python",
      "nbconvert_exporter": "python",
      "pygments_lexer": "ipython3",
      "version": "3.11.5"
    }
  },
  "nbformat": 4,
  "nbformat_minor": 0
}
